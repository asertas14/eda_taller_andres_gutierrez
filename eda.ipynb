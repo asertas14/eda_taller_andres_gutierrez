{
 "cells": [
  {
   "cell_type": "markdown",
   "metadata": {},
   "source": [
    "## Taller 1 – EDA-Florida-AndresGutierrez\n",
    "\n",
    "En este juego de roles, como consultor científico de datos, el objetivo es ayudar a individuos o empresas que buscan invertir en propiedades de alquiler a través de la plataforma Airbnb. La meta es lograr una rentabilidad adecuada a lo largo del tiempo, la cual puede estar dada en términos de una alta tasa de ocupación y precio por noche.\n",
    "\n",
    "Este notebook contiene información de Airbnb en **Florida**, y se abordará el problema con el siguiente enfoque:\n",
    "\n",
    "\n",
    "\n",
    "### Preguntas clave:\n",
    "   - ¿Qué tipos de propiedades son más populares o tienen mayor demanda?\n",
    "   - ¿Cuáles son las zonas o ubicaciones más rentables? (esto implica crear una variable).\n",
    "   - ¿Cómo influyen las calificaciones en la tasa de ocupación o en el precio por noche?\n",
    "\n"
   ]
  },
  {
   "cell_type": "markdown",
   "metadata": {},
   "source": [
    "# Setup"
   ]
  },
  {
   "cell_type": "code",
   "execution_count": 1,
   "metadata": {},
   "outputs": [],
   "source": [
    "\n",
    "# Common imports\n",
    "import numpy as np\n",
    "import os\n",
    "\n",
    "# to make this notebook's output stable across runs\n",
    "np.random.seed(42)\n",
    "\n",
    "# To plot pretty figures\n",
    "%matplotlib inline\n",
    "import matplotlib as mpl\n",
    "import matplotlib.pyplot as plt\n",
    "mpl.rc('axes', labelsize=14)\n",
    "mpl.rc('xtick', labelsize=12)\n",
    "mpl.rc('ytick', labelsize=12)\n",
    "\n",
    "# Where to save the figures\n",
    "PROJECT_ROOT_DIR = \".\"\n",
    "CHAPTER_ID = \"Florida\"\n",
    "IMAGES_PATH = os.path.join(PROJECT_ROOT_DIR, \"images\", CHAPTER_ID)\n",
    "os.makedirs(IMAGES_PATH, exist_ok=True)\n",
    "\n",
    "def save_fig(fig_id, tight_layout=True, fig_extension=\"png\", resolution=300):\n",
    "    path = os.path.join(IMAGES_PATH, fig_id + \".\" + fig_extension)\n",
    "    print(\"Saving figure\", fig_id)\n",
    "    if tight_layout:\n",
    "        plt.tight_layout()\n",
    "    plt.savefig(path, format=fig_extension, dpi=resolution)\n"
   ]
  },
  {
   "cell_type": "markdown",
   "metadata": {},
   "source": [
    "# Get the data"
   ]
  },
  {
   "cell_type": "code",
   "execution_count": 2,
   "metadata": {},
   "outputs": [],
   "source": [
    "import pandas as pd\n",
    "\n",
    "# import data from a csv\n",
    "listings = pd.read_csv('data/listings.csv')\n"
   ]
  },
  {
   "cell_type": "code",
   "execution_count": 3,
   "metadata": {},
   "outputs": [
    {
     "data": {
      "text/plain": [
       "Index(['id', 'listing_url', 'scrape_id', 'last_scraped', 'source', 'name',\n",
       "       'description', 'neighborhood_overview', 'picture_url', 'host_id',\n",
       "       'host_url', 'host_name', 'host_since', 'host_location', 'host_about',\n",
       "       'host_response_time', 'host_response_rate', 'host_acceptance_rate',\n",
       "       'host_is_superhost', 'host_thumbnail_url', 'host_picture_url',\n",
       "       'host_neighbourhood', 'host_listings_count',\n",
       "       'host_total_listings_count', 'host_verifications',\n",
       "       'host_has_profile_pic', 'host_identity_verified', 'neighbourhood',\n",
       "       'neighbourhood_cleansed', 'neighbourhood_group_cleansed', 'latitude',\n",
       "       'longitude', 'property_type', 'room_type', 'accommodates', 'bathrooms',\n",
       "       'bathrooms_text', 'bedrooms', 'beds', 'amenities', 'price',\n",
       "       'minimum_nights', 'maximum_nights', 'minimum_minimum_nights',\n",
       "       'maximum_minimum_nights', 'minimum_maximum_nights',\n",
       "       'maximum_maximum_nights', 'minimum_nights_avg_ntm',\n",
       "       'maximum_nights_avg_ntm', 'calendar_updated', 'has_availability',\n",
       "       'availability_30', 'availability_60', 'availability_90',\n",
       "       'availability_365', 'calendar_last_scraped', 'number_of_reviews',\n",
       "       'number_of_reviews_ltm', 'number_of_reviews_l30d', 'first_review',\n",
       "       'last_review', 'review_scores_rating', 'review_scores_accuracy',\n",
       "       'review_scores_cleanliness', 'review_scores_checkin',\n",
       "       'review_scores_communication', 'review_scores_location',\n",
       "       'review_scores_value', 'license', 'instant_bookable',\n",
       "       'calculated_host_listings_count',\n",
       "       'calculated_host_listings_count_entire_homes',\n",
       "       'calculated_host_listings_count_private_rooms',\n",
       "       'calculated_host_listings_count_shared_rooms', 'reviews_per_month'],\n",
       "      dtype='object')"
      ]
     },
     "execution_count": 3,
     "metadata": {},
     "output_type": "execute_result"
    }
   ],
   "source": [
    "listings.columns"
   ]
  },
  {
   "cell_type": "markdown",
   "metadata": {},
   "source": [
    "*Se seleccionan del set de datos las variables para trabajar*"
   ]
  },
  {
   "cell_type": "code",
   "execution_count": 4,
   "metadata": {},
   "outputs": [
    {
     "data": {
      "text/html": [
       "<div>\n",
       "<style scoped>\n",
       "    .dataframe tbody tr th:only-of-type {\n",
       "        vertical-align: middle;\n",
       "    }\n",
       "\n",
       "    .dataframe tbody tr th {\n",
       "        vertical-align: top;\n",
       "    }\n",
       "\n",
       "    .dataframe thead th {\n",
       "        text-align: right;\n",
       "    }\n",
       "</style>\n",
       "<table border=\"1\" class=\"dataframe\">\n",
       "  <thead>\n",
       "    <tr style=\"text-align: right;\">\n",
       "      <th></th>\n",
       "      <th>id</th>\n",
       "      <th>property_type</th>\n",
       "      <th>room_type</th>\n",
       "      <th>accommodates</th>\n",
       "      <th>bedrooms</th>\n",
       "      <th>beds</th>\n",
       "      <th>price</th>\n",
       "      <th>longitude</th>\n",
       "      <th>latitude</th>\n",
       "      <th>number_of_reviews_l30d</th>\n",
       "      <th>reviews_per_month</th>\n",
       "      <th>review_scores_rating</th>\n",
       "      <th>review_scores_location</th>\n",
       "      <th>review_scores_cleanliness</th>\n",
       "      <th>review_scores_checkin</th>\n",
       "      <th>review_scores_value</th>\n",
       "      <th>instant_bookable</th>\n",
       "      <th>number_of_reviews_ltm</th>\n",
       "      <th>host_acceptance_rate</th>\n",
       "    </tr>\n",
       "  </thead>\n",
       "  <tbody>\n",
       "    <tr>\n",
       "      <th>0</th>\n",
       "      <td>57818</td>\n",
       "      <td>Entire home</td>\n",
       "      <td>Entire home/apt</td>\n",
       "      <td>4</td>\n",
       "      <td>2.0</td>\n",
       "      <td>2.0</td>\n",
       "      <td>$275.00</td>\n",
       "      <td>-80.12430</td>\n",
       "      <td>26.01859</td>\n",
       "      <td>0</td>\n",
       "      <td>0.45</td>\n",
       "      <td>4.63</td>\n",
       "      <td>4.88</td>\n",
       "      <td>4.61</td>\n",
       "      <td>5.00</td>\n",
       "      <td>4.71</td>\n",
       "      <td>f</td>\n",
       "      <td>1</td>\n",
       "      <td>97%</td>\n",
       "    </tr>\n",
       "    <tr>\n",
       "      <th>1</th>\n",
       "      <td>83449</td>\n",
       "      <td>Entire rental unit</td>\n",
       "      <td>Entire home/apt</td>\n",
       "      <td>5</td>\n",
       "      <td>2.0</td>\n",
       "      <td>3.0</td>\n",
       "      <td>$91.00</td>\n",
       "      <td>-80.14201</td>\n",
       "      <td>26.03392</td>\n",
       "      <td>0</td>\n",
       "      <td>0.20</td>\n",
       "      <td>4.74</td>\n",
       "      <td>4.81</td>\n",
       "      <td>4.85</td>\n",
       "      <td>4.93</td>\n",
       "      <td>4.85</td>\n",
       "      <td>f</td>\n",
       "      <td>8</td>\n",
       "      <td>95%</td>\n",
       "    </tr>\n",
       "    <tr>\n",
       "      <th>2</th>\n",
       "      <td>3097603</td>\n",
       "      <td>Entire rental unit</td>\n",
       "      <td>Entire home/apt</td>\n",
       "      <td>8</td>\n",
       "      <td>2.0</td>\n",
       "      <td>1.0</td>\n",
       "      <td>$300.00</td>\n",
       "      <td>-80.37207</td>\n",
       "      <td>26.12660</td>\n",
       "      <td>0</td>\n",
       "      <td>NaN</td>\n",
       "      <td>NaN</td>\n",
       "      <td>NaN</td>\n",
       "      <td>NaN</td>\n",
       "      <td>NaN</td>\n",
       "      <td>NaN</td>\n",
       "      <td>f</td>\n",
       "      <td>0</td>\n",
       "      <td>NaN</td>\n",
       "    </tr>\n",
       "    <tr>\n",
       "      <th>3</th>\n",
       "      <td>3105046</td>\n",
       "      <td>Entire rental unit</td>\n",
       "      <td>Entire home/apt</td>\n",
       "      <td>4</td>\n",
       "      <td>1.0</td>\n",
       "      <td>1.0</td>\n",
       "      <td>$105.00</td>\n",
       "      <td>-80.37142</td>\n",
       "      <td>26.12751</td>\n",
       "      <td>0</td>\n",
       "      <td>NaN</td>\n",
       "      <td>NaN</td>\n",
       "      <td>NaN</td>\n",
       "      <td>NaN</td>\n",
       "      <td>NaN</td>\n",
       "      <td>NaN</td>\n",
       "      <td>f</td>\n",
       "      <td>0</td>\n",
       "      <td>NaN</td>\n",
       "    </tr>\n",
       "    <tr>\n",
       "      <th>4</th>\n",
       "      <td>3113463</td>\n",
       "      <td>Private room in home</td>\n",
       "      <td>Private room</td>\n",
       "      <td>2</td>\n",
       "      <td>NaN</td>\n",
       "      <td>1.0</td>\n",
       "      <td>$65.00</td>\n",
       "      <td>-80.13118</td>\n",
       "      <td>26.20928</td>\n",
       "      <td>1</td>\n",
       "      <td>0.76</td>\n",
       "      <td>4.92</td>\n",
       "      <td>4.78</td>\n",
       "      <td>4.93</td>\n",
       "      <td>4.97</td>\n",
       "      <td>4.97</td>\n",
       "      <td>t</td>\n",
       "      <td>5</td>\n",
       "      <td>100%</td>\n",
       "    </tr>\n",
       "  </tbody>\n",
       "</table>\n",
       "</div>"
      ],
      "text/plain": [
       "        id         property_type        room_type  accommodates  bedrooms  \\\n",
       "0    57818           Entire home  Entire home/apt             4       2.0   \n",
       "1    83449    Entire rental unit  Entire home/apt             5       2.0   \n",
       "2  3097603    Entire rental unit  Entire home/apt             8       2.0   \n",
       "3  3105046    Entire rental unit  Entire home/apt             4       1.0   \n",
       "4  3113463  Private room in home     Private room             2       NaN   \n",
       "\n",
       "   beds    price  longitude  latitude  number_of_reviews_l30d  \\\n",
       "0   2.0  $275.00  -80.12430  26.01859                       0   \n",
       "1   3.0   $91.00  -80.14201  26.03392                       0   \n",
       "2   1.0  $300.00  -80.37207  26.12660                       0   \n",
       "3   1.0  $105.00  -80.37142  26.12751                       0   \n",
       "4   1.0   $65.00  -80.13118  26.20928                       1   \n",
       "\n",
       "   reviews_per_month  review_scores_rating  review_scores_location  \\\n",
       "0               0.45                  4.63                    4.88   \n",
       "1               0.20                  4.74                    4.81   \n",
       "2                NaN                   NaN                     NaN   \n",
       "3                NaN                   NaN                     NaN   \n",
       "4               0.76                  4.92                    4.78   \n",
       "\n",
       "   review_scores_cleanliness  review_scores_checkin  review_scores_value  \\\n",
       "0                       4.61                   5.00                 4.71   \n",
       "1                       4.85                   4.93                 4.85   \n",
       "2                        NaN                    NaN                  NaN   \n",
       "3                        NaN                    NaN                  NaN   \n",
       "4                       4.93                   4.97                 4.97   \n",
       "\n",
       "  instant_bookable  number_of_reviews_ltm host_acceptance_rate  \n",
       "0                f                      1                  97%  \n",
       "1                f                      8                  95%  \n",
       "2                f                      0                  NaN  \n",
       "3                f                      0                  NaN  \n",
       "4                t                      5                 100%  "
      ]
     },
     "execution_count": 4,
     "metadata": {},
     "output_type": "execute_result"
    }
   ],
   "source": [
    "# Identifier column\n",
    "identifier = 'id'\n",
    "\n",
    "# Features related to the property details\n",
    "property_features = ['property_type', 'room_type', 'accommodates', 'bedrooms', 'beds', 'price', 'longitude', 'latitude']\n",
    "\n",
    "# Features related to reviews and ratings\n",
    "reviews_features = ['number_of_reviews_l30d', 'reviews_per_month', 'review_scores_rating', 'review_scores_location','review_scores_cleanliness','review_scores_checkin','review_scores_value','instant_bookable','number_of_reviews_ltm']\n",
    "\n",
    "# Features related to host\n",
    "host_features = ['host_acceptance_rate']\n",
    "\n",
    "# Combining the features into one list\n",
    "all_features = [identifier] + property_features + reviews_features + host_features\n",
    "\n",
    "listings = listings[all_features].copy()\n",
    "\n",
    "# Display the first rows of the adjusted DataFrame\n",
    "listings.head()"
   ]
  },
  {
   "cell_type": "code",
   "execution_count": 5,
   "metadata": {},
   "outputs": [
    {
     "name": "stdout",
     "output_type": "stream",
     "text": [
      "<class 'pandas.core.frame.DataFrame'>\n",
      "RangeIndex: 17728 entries, 0 to 17727\n",
      "Data columns (total 19 columns):\n",
      " #   Column                     Non-Null Count  Dtype  \n",
      "---  ------                     --------------  -----  \n",
      " 0   id                         17728 non-null  int64  \n",
      " 1   property_type              17728 non-null  object \n",
      " 2   room_type                  17728 non-null  object \n",
      " 3   accommodates               17728 non-null  int64  \n",
      " 4   bedrooms                   14715 non-null  float64\n",
      " 5   beds                       17567 non-null  float64\n",
      " 6   price                      17728 non-null  object \n",
      " 7   longitude                  17728 non-null  float64\n",
      " 8   latitude                   17728 non-null  float64\n",
      " 9   number_of_reviews_l30d     17728 non-null  int64  \n",
      " 10  reviews_per_month          14293 non-null  float64\n",
      " 11  review_scores_rating       14293 non-null  float64\n",
      " 12  review_scores_location     14253 non-null  float64\n",
      " 13  review_scores_cleanliness  14254 non-null  float64\n",
      " 14  review_scores_checkin      14254 non-null  float64\n",
      " 15  review_scores_value        14254 non-null  float64\n",
      " 16  instant_bookable           17728 non-null  object \n",
      " 17  number_of_reviews_ltm      17728 non-null  int64  \n",
      " 18  host_acceptance_rate       15906 non-null  object \n",
      "dtypes: float64(10), int64(4), object(5)\n",
      "memory usage: 2.6+ MB\n"
     ]
    }
   ],
   "source": [
    "# Showing dataframe dimensions, Dtype column types and not null values\n",
    "listings.info()"
   ]
  },
  {
   "cell_type": "code",
   "execution_count": 6,
   "metadata": {},
   "outputs": [
    {
     "data": {
      "text/html": [
       "<div>\n",
       "<style scoped>\n",
       "    .dataframe tbody tr th:only-of-type {\n",
       "        vertical-align: middle;\n",
       "    }\n",
       "\n",
       "    .dataframe tbody tr th {\n",
       "        vertical-align: top;\n",
       "    }\n",
       "\n",
       "    .dataframe thead th {\n",
       "        text-align: right;\n",
       "    }\n",
       "</style>\n",
       "<table border=\"1\" class=\"dataframe\">\n",
       "  <thead>\n",
       "    <tr style=\"text-align: right;\">\n",
       "      <th></th>\n",
       "      <th>id</th>\n",
       "      <th>accommodates</th>\n",
       "      <th>bedrooms</th>\n",
       "      <th>beds</th>\n",
       "      <th>longitude</th>\n",
       "      <th>latitude</th>\n",
       "      <th>number_of_reviews_l30d</th>\n",
       "      <th>reviews_per_month</th>\n",
       "      <th>review_scores_rating</th>\n",
       "      <th>review_scores_location</th>\n",
       "      <th>review_scores_cleanliness</th>\n",
       "      <th>review_scores_checkin</th>\n",
       "      <th>review_scores_value</th>\n",
       "      <th>number_of_reviews_ltm</th>\n",
       "    </tr>\n",
       "  </thead>\n",
       "  <tbody>\n",
       "    <tr>\n",
       "      <th>count</th>\n",
       "      <td>1.772800e+04</td>\n",
       "      <td>17728.000000</td>\n",
       "      <td>14715.000000</td>\n",
       "      <td>17567.000000</td>\n",
       "      <td>17728.000000</td>\n",
       "      <td>17728.000000</td>\n",
       "      <td>17728.000000</td>\n",
       "      <td>14293.000000</td>\n",
       "      <td>14293.000000</td>\n",
       "      <td>14253.000000</td>\n",
       "      <td>14254.000000</td>\n",
       "      <td>14254.000000</td>\n",
       "      <td>14254.000000</td>\n",
       "      <td>17728.000000</td>\n",
       "    </tr>\n",
       "    <tr>\n",
       "      <th>mean</th>\n",
       "      <td>3.884334e+17</td>\n",
       "      <td>5.128667</td>\n",
       "      <td>2.191981</td>\n",
       "      <td>2.933227</td>\n",
       "      <td>-80.145691</td>\n",
       "      <td>26.103619</td>\n",
       "      <td>0.748703</td>\n",
       "      <td>1.561535</td>\n",
       "      <td>4.681931</td>\n",
       "      <td>4.777781</td>\n",
       "      <td>4.694178</td>\n",
       "      <td>4.787049</td>\n",
       "      <td>4.639103</td>\n",
       "      <td>10.341494</td>\n",
       "    </tr>\n",
       "    <tr>\n",
       "      <th>std</th>\n",
       "      <td>3.842290e+17</td>\n",
       "      <td>3.102829</td>\n",
       "      <td>1.351469</td>\n",
       "      <td>2.096210</td>\n",
       "      <td>0.056124</td>\n",
       "      <td>0.098854</td>\n",
       "      <td>1.485483</td>\n",
       "      <td>1.638520</td>\n",
       "      <td>0.538619</td>\n",
       "      <td>0.377275</td>\n",
       "      <td>0.471557</td>\n",
       "      <td>0.450133</td>\n",
       "      <td>0.487447</td>\n",
       "      <td>16.555148</td>\n",
       "    </tr>\n",
       "    <tr>\n",
       "      <th>min</th>\n",
       "      <td>5.781800e+04</td>\n",
       "      <td>0.000000</td>\n",
       "      <td>1.000000</td>\n",
       "      <td>1.000000</td>\n",
       "      <td>-80.428780</td>\n",
       "      <td>25.957040</td>\n",
       "      <td>0.000000</td>\n",
       "      <td>0.010000</td>\n",
       "      <td>0.000000</td>\n",
       "      <td>1.000000</td>\n",
       "      <td>0.000000</td>\n",
       "      <td>0.000000</td>\n",
       "      <td>1.000000</td>\n",
       "      <td>0.000000</td>\n",
       "    </tr>\n",
       "    <tr>\n",
       "      <th>25%</th>\n",
       "      <td>4.407362e+07</td>\n",
       "      <td>2.000000</td>\n",
       "      <td>1.000000</td>\n",
       "      <td>1.000000</td>\n",
       "      <td>-80.155632</td>\n",
       "      <td>26.008446</td>\n",
       "      <td>0.000000</td>\n",
       "      <td>0.470000</td>\n",
       "      <td>4.600000</td>\n",
       "      <td>4.720000</td>\n",
       "      <td>4.600000</td>\n",
       "      <td>4.750000</td>\n",
       "      <td>4.530000</td>\n",
       "      <td>0.000000</td>\n",
       "    </tr>\n",
       "    <tr>\n",
       "      <th>50%</th>\n",
       "      <td>5.581943e+17</td>\n",
       "      <td>4.000000</td>\n",
       "      <td>2.000000</td>\n",
       "      <td>2.000000</td>\n",
       "      <td>-80.126230</td>\n",
       "      <td>26.112820</td>\n",
       "      <td>0.000000</td>\n",
       "      <td>1.140000</td>\n",
       "      <td>4.830000</td>\n",
       "      <td>4.880000</td>\n",
       "      <td>4.830000</td>\n",
       "      <td>4.940000</td>\n",
       "      <td>4.760000</td>\n",
       "      <td>4.000000</td>\n",
       "    </tr>\n",
       "    <tr>\n",
       "      <th>75%</th>\n",
       "      <td>7.702069e+17</td>\n",
       "      <td>6.000000</td>\n",
       "      <td>3.000000</td>\n",
       "      <td>4.000000</td>\n",
       "      <td>-80.116354</td>\n",
       "      <td>26.173360</td>\n",
       "      <td>1.000000</td>\n",
       "      <td>2.220000</td>\n",
       "      <td>5.000000</td>\n",
       "      <td>5.000000</td>\n",
       "      <td>5.000000</td>\n",
       "      <td>5.000000</td>\n",
       "      <td>4.920000</td>\n",
       "      <td>15.000000</td>\n",
       "    </tr>\n",
       "    <tr>\n",
       "      <th>max</th>\n",
       "      <td>9.210765e+17</td>\n",
       "      <td>16.000000</td>\n",
       "      <td>13.000000</td>\n",
       "      <td>21.000000</td>\n",
       "      <td>-80.074910</td>\n",
       "      <td>26.334900</td>\n",
       "      <td>61.000000</td>\n",
       "      <td>74.890000</td>\n",
       "      <td>5.000000</td>\n",
       "      <td>5.000000</td>\n",
       "      <td>5.000000</td>\n",
       "      <td>5.000000</td>\n",
       "      <td>5.000000</td>\n",
       "      <td>858.000000</td>\n",
       "    </tr>\n",
       "  </tbody>\n",
       "</table>\n",
       "</div>"
      ],
      "text/plain": [
       "                 id  accommodates      bedrooms          beds     longitude  \\\n",
       "count  1.772800e+04  17728.000000  14715.000000  17567.000000  17728.000000   \n",
       "mean   3.884334e+17      5.128667      2.191981      2.933227    -80.145691   \n",
       "std    3.842290e+17      3.102829      1.351469      2.096210      0.056124   \n",
       "min    5.781800e+04      0.000000      1.000000      1.000000    -80.428780   \n",
       "25%    4.407362e+07      2.000000      1.000000      1.000000    -80.155632   \n",
       "50%    5.581943e+17      4.000000      2.000000      2.000000    -80.126230   \n",
       "75%    7.702069e+17      6.000000      3.000000      4.000000    -80.116354   \n",
       "max    9.210765e+17     16.000000     13.000000     21.000000    -80.074910   \n",
       "\n",
       "           latitude  number_of_reviews_l30d  reviews_per_month  \\\n",
       "count  17728.000000            17728.000000       14293.000000   \n",
       "mean      26.103619                0.748703           1.561535   \n",
       "std        0.098854                1.485483           1.638520   \n",
       "min       25.957040                0.000000           0.010000   \n",
       "25%       26.008446                0.000000           0.470000   \n",
       "50%       26.112820                0.000000           1.140000   \n",
       "75%       26.173360                1.000000           2.220000   \n",
       "max       26.334900               61.000000          74.890000   \n",
       "\n",
       "       review_scores_rating  review_scores_location  \\\n",
       "count          14293.000000            14253.000000   \n",
       "mean               4.681931                4.777781   \n",
       "std                0.538619                0.377275   \n",
       "min                0.000000                1.000000   \n",
       "25%                4.600000                4.720000   \n",
       "50%                4.830000                4.880000   \n",
       "75%                5.000000                5.000000   \n",
       "max                5.000000                5.000000   \n",
       "\n",
       "       review_scores_cleanliness  review_scores_checkin  review_scores_value  \\\n",
       "count               14254.000000           14254.000000         14254.000000   \n",
       "mean                    4.694178               4.787049             4.639103   \n",
       "std                     0.471557               0.450133             0.487447   \n",
       "min                     0.000000               0.000000             1.000000   \n",
       "25%                     4.600000               4.750000             4.530000   \n",
       "50%                     4.830000               4.940000             4.760000   \n",
       "75%                     5.000000               5.000000             4.920000   \n",
       "max                     5.000000               5.000000             5.000000   \n",
       "\n",
       "       number_of_reviews_ltm  \n",
       "count           17728.000000  \n",
       "mean               10.341494  \n",
       "std                16.555148  \n",
       "min                 0.000000  \n",
       "25%                 0.000000  \n",
       "50%                 4.000000  \n",
       "75%                15.000000  \n",
       "max               858.000000  "
      ]
     },
     "execution_count": 6,
     "metadata": {},
     "output_type": "execute_result"
    }
   ],
   "source": [
    "listings.describe()"
   ]
  },
  {
   "cell_type": "markdown",
   "metadata": {},
   "source": [
    "## Univariate analysis"
   ]
  },
  {
   "cell_type": "markdown",
   "metadata": {},
   "source": []
  },
  {
   "cell_type": "code",
   "execution_count": 7,
   "metadata": {},
   "outputs": [
    {
     "data": {
      "text/plain": [
       "0"
      ]
     },
     "execution_count": 7,
     "metadata": {},
     "output_type": "execute_result"
    }
   ],
   "source": [
    "# Duplicated rows\n",
    "listings.duplicated().sum()"
   ]
  },
  {
   "cell_type": "code",
   "execution_count": 8,
   "metadata": {},
   "outputs": [
    {
     "name": "stdout",
     "output_type": "stream",
     "text": [
      "(17728, 20) (16379, 20)\n"
     ]
    }
   ],
   "source": [
    "# Transform the price attribute from object to float\n",
    "listings[\"price_float\"] = listings[\"price\"].str.replace(\"[$,]\", \"\", regex=True).astype(float)\n",
    "\n",
    "# Calculate the Interquartile Range (IQR) for the price_float column\n",
    "q1 = listings[\"price_float\"].quantile(0.25)\n",
    "q3 = listings[\"price_float\"].quantile(0.75)\n",
    "iqr = q3 - q1\n",
    "\n",
    "# Define bounds for outliers\n",
    "lower_bound = q1 - 1.5 * iqr\n",
    "upper_bound = q3 + 1.5 * iqr\n",
    "\n",
    "# Filter the DataFrame to exclude outliers based on the price_float column\n",
    "filtered_listings = listings[ listings[\"price_float\"] <= upper_bound]\n",
    "\n",
    "# Display the shape of the original and filtered DataFrames\n",
    "original_shape = listings.shape\n",
    "filtered_shape = filtered_listings.shape\n",
    "\n",
    "print(original_shape, filtered_shape)"
   ]
  },
  {
   "cell_type": "code",
   "execution_count": 9,
   "metadata": {},
   "outputs": [
    {
     "data": {
      "text/plain": [
       "[]"
      ]
     },
     "execution_count": 9,
     "metadata": {},
     "output_type": "execute_result"
    },
    {
     "data": {
      "image/png": "[encoded data removed]",
      "text/plain": [
       "<Figure size 1440x360 with 1 Axes>"
      ]
     },
     "metadata": {},
     "output_type": "display_data"
    }
   ],
   "source": [
    "import seaborn as sns\n",
    "# Select numeric columns from the listings DataFrame\n",
    "numeric_columns = filtered_listings.select_dtypes(include=['float64', 'int64']).columns\n",
    "sns.set_style(\"white\")\n",
    "plt.figure(figsize=(20, 5))\n",
    "plt.hist(filtered_listings[\"price_float\"], bins=50)\n",
    "plt.title(\"Price distribution\")\n",
    "plt.plot()"
   ]
  },
  {
   "cell_type": "code",
   "execution_count": 10,
   "metadata": {},
   "outputs": [
    {
     "data": {
      "text/plain": [
       "0.07609431407942235"
      ]
     },
     "execution_count": 10,
     "metadata": {},
     "output_type": "execute_result"
    }
   ],
   "source": [
    "1-filtered_listings.shape[0]/listings.shape[0]"
   ]
  },
  {
   "cell_type": "markdown",
   "metadata": {},
   "source": [
    "### Processing missing values"
   ]
  },
  {
   "cell_type": "code",
   "execution_count": 11,
   "metadata": {},
   "outputs": [
    {
     "name": "stdout",
     "output_type": "stream",
     "text": [
      "Hay 10376 filas sin valores faltantes en el dataset.\n"
     ]
    },
    {
     "data": {
      "text/plain": [
       "<AxesSubplot:>"
      ]
     },
     "execution_count": 11,
     "metadata": {},
     "output_type": "execute_result"
    },
    {
     "data": {
      "image/png": "[encoded data removed]",
      "text/plain": [
       "<Figure size 1080x576 with 2 Axes>"
      ]
     },
     "metadata": {},
     "output_type": "display_data"
    }
   ],
   "source": [
    "\n",
    "import missingno as msno\n",
    "\n",
    "missing_data = filtered_listings.isnull()\n",
    "\n",
    "\n",
    "complete_rows = filtered_listings.dropna()\n",
    "\n",
    "num_complete_rows = len(complete_rows)\n",
    "\n",
    "# Configurar el fondo blanco en Seaborn\n",
    "sns.set_style(\"white\")\n",
    "print(f\"Hay {num_complete_rows} filas sin valores faltantes en el dataset.\")\n",
    "msno.matrix(listings, figsize=(15, 8), color=(0.24, 0.77, 0.89), fontsize=12)\n",
    "\n"
   ]
  },
  {
   "cell_type": "code",
   "execution_count": 12,
   "metadata": {},
   "outputs": [
    {
     "data": {
      "image/png": "[encoded data removed]",
      "text/plain": [
       "<Figure size 1080x360 with 3 Axes>"
      ]
     },
     "metadata": {},
     "output_type": "display_data"
    }
   ],
   "source": [
    "# List of specified columns\n",
    "columns_to_process = ['bedrooms', 'beds', 'host_acceptance_rate']\n",
    "\n",
    "# Function to filter outliers based on IQR\n",
    "def filter_outliers(df, column_name):\n",
    "    # For the host_acceptance_rate column, convert percentage strings to float\n",
    "    if column_name == \"host_acceptance_rate\":\n",
    "        df[column_name] = df[column_name].str.rstrip('%').astype('float') / 100.0\n",
    "    \n",
    "    q1 = df[column_name].quantile(0.25)\n",
    "    q3 = df[column_name].quantile(0.75)\n",
    "    iqr = q3 - q1\n",
    "    lower_bound = q1 - 1.5 * iqr\n",
    "    upper_bound = q3 + 1.5 * iqr\n",
    "    \n",
    "    return df[(df[column_name] >= lower_bound) & (df[column_name] <= upper_bound)]\n",
    "\n",
    "# Dictionary to store filtered dataframes for each column\n",
    "filtered_dfs = {}\n",
    "\n",
    "for column in columns_to_process:\n",
    "    filtered_dfs[column] = filter_outliers(listings.copy(), column)\n",
    "\n",
    "# Plot histograms for the specified columns after filtering outliers\n",
    "plt.figure(figsize=(15, 5))\n",
    "for index, column in enumerate(columns_to_process, 1):\n",
    "    plt.subplot(1, 3, index)\n",
    "    filtered_dfs[column][column].hist(bins=30)\n",
    "    plt.title(column)\n",
    "    plt.xlabel(column)\n",
    "    plt.ylabel(\"Frequency\")\n",
    "\n",
    "plt.tight_layout()\n",
    "plt.show()\n"
   ]
  },
  {
   "cell_type": "markdown",
   "metadata": {},
   "source": [
    "Imputar los valores faltantes de bedrooms utilizando la media, excluyendo los valores atípicos.  \n",
    "Basándose en los bedrooms ya imputados, imputar los valores faltantes de beds utilizando la media, excluyendo los valores atípicos.  \n",
    "Luego, para los valores faltantes restantes de bedrooms, imputar utilizando la media basada únicamente en los datos que son considerados outliers de bedrooms.  \n",
    "Luego, para los valores faltantes restantes de beds, imputar utilizando la media basada únicamente en los datos que son considerados outliers de beds.  \n",
    "Imputar los valores faltantes en la columna host_acceptance_rate usando la mediana."
   ]
  },
  {
   "cell_type": "code",
   "execution_count": null,
   "metadata": {},
   "outputs": [],
   "source": [
    "\n"
   ]
  },
  {
   "cell_type": "code",
   "execution_count": 15,
   "metadata": {},
   "outputs": [
    {
     "data": {
      "text/plain": [
       "{'bedrooms': 0, 'beds': 0, 'host_acceptance_rate': 0}"
      ]
     },
     "execution_count": 15,
     "metadata": {},
     "output_type": "execute_result"
    }
   ],
   "source": [
    "# 1. Impute missing values in 'bedrooms' using the mean (excluding outliers)\n",
    "mean_bedrooms_without_outliers = filter_outliers(listings, 'bedrooms')['bedrooms'].mean()\n",
    "listings.loc[listings['bedrooms'].isnull(), 'bedrooms'] = listings['bedrooms'].fillna(mean_bedrooms_without_outliers)\n",
    "\n",
    "# 2. Based on the already imputed 'bedrooms', impute missing values in 'beds' using the mean (excluding outliers)\n",
    "beds_mean_per_bedroom_without_outliers = filter_outliers(listings, 'beds').groupby('bedrooms')['beds'].transform('mean')\n",
    "listings.loc[listings['beds'].isnull(), 'beds'] = listings['beds'].fillna(beds_mean_per_bedroom_without_outliers)\n",
    "\n",
    "# 3. For remaining missing values in 'bedrooms', impute using the mean based only on outlier data of 'bedrooms'\n",
    "mean_bedrooms_with_outliers = listings[~listings.index.isin(filter_outliers(listings, 'bedrooms').index)]['bedrooms'].mean()\n",
    "listings['bedrooms'].fillna(mean_bedrooms_with_outliers, inplace=True)\n",
    "\n",
    "# 4. For remaining missing values in 'beds', impute using the mean based only on outlier data of 'beds'\n",
    "beds_mean_per_bedroom_with_outliers = listings[~listings.index.isin(filter_outliers(listings, 'beds').index)].groupby('bedrooms')['beds'].transform('mean')\n",
    "listings['beds'].fillna(beds_mean_per_bedroom_with_outliers, inplace=True)\n",
    "\n",
    "# 5. Impute missing values in 'host_acceptance_rate' with the median\n",
    "# Convert host_acceptance_rate column from string percentages to float\n",
    "listings['host_acceptance_rate'] = listings['host_acceptance_rate'].str.rstrip('%').astype('float') / 100.0\n",
    "median_host_acceptance_rate = listings['host_acceptance_rate'].median()\n",
    "listings['host_acceptance_rate'].fillna(median_host_acceptance_rate, inplace=True)\n",
    "\n",
    "\n",
    "# Check if there are still missing values in these columns\n",
    "missing_values_after_restructured_imputation = {\n",
    "    'bedrooms': listings['bedrooms'].isnull().sum(),\n",
    "    'beds': listings['beds'].isnull().sum(),\n",
    "    'host_acceptance_rate': listings['host_acceptance_rate'].isnull().sum()\n",
    "}\n",
    "\n",
    "missing_values_after_restructured_imputation\n"
   ]
  },
  {
   "cell_type": "code",
   "execution_count": 17,
   "metadata": {},
   "outputs": [
    {
     "data": {
      "text/plain": [
       "0        0.45\n",
       "1        0.20\n",
       "2         NaN\n",
       "3         NaN\n",
       "4        0.76\n",
       "         ... \n",
       "17723     NaN\n",
       "17724     NaN\n",
       "17725     NaN\n",
       "17726     NaN\n",
       "17727     NaN\n",
       "Name: reviews_per_month, Length: 17728, dtype: float64"
      ]
     },
     "execution_count": 17,
     "metadata": {},
     "output_type": "execute_result"
    }
   ],
   "source": [
    "listings.reviews_per_month"
   ]
  },
  {
   "cell_type": "markdown",
   "metadata": {},
   "source": [
    "## Univariate analysis"
   ]
  },
  {
   "cell_type": "markdown",
   "metadata": {},
   "source": [
    "Vamos a crear dos variable extras que son la \"demand\" y el \"annual_income\""
   ]
  },
  {
   "cell_type": "markdown",
   "metadata": {},
   "source": []
  }
 ],
 "metadata": {
  "kernelspec": {
   "display_name": "base",
   "language": "python",
   "name": "python3"
  },
  "language_info": {
   "codemirror_mode": {
    "name": "ipython",
    "version": 3
   },
   "file_extension": ".py",
   "mimetype": "text/x-python",
   "name": "python",
   "nbconvert_exporter": "python",
   "pygments_lexer": "ipython3",
   "version": "3.9.7"
  },
  "orig_nbformat": 4
 },
 "nbformat": 4,
 "nbformat_minor": 2
}
