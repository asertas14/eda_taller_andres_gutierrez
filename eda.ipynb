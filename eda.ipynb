{
 "cells": [
  {
   "cell_type": "markdown",
   "metadata": {},
   "source": [
    "## Taller 1 – EDA-Florida-AndresGutierrez\n",
    "\n",
    "Este notebook contiene información de Airbnb en **Florida**, y se abordará el problema con el siguiente enfoque:\n",
    "\n",
    "La estrategia combina un análisis cuantitativo robusto con insights de la industria respaldados por papers académicos. Inicialmente, definimos dos variables esenciales: demanda y rentabilidad. A través de estadísticas descriptivas, análisis de correlación y el uso de papers, identificamos relaciones clave entre atributos como tipo de propiedad, ubicación y estatus de \"Superhost\". Las comodidades y su influencia en el precio y la demanda también se analizaron en profundidad. Esta metodología integral, fundamentada en investigaciones académicas, permite a los inversionistas tomar decisiones basadas en datos claros y tendencias del mercado.\n",
    "\n",
    "### Preguntas clave:\n",
    "   - ¿Cuáles son las zonas o ubicaciones más rentables?\n",
    "   - ¿Qué tipos de propiedades son más rentables?\n",
    "   - ¿Qué comodidades ofrecer en la propiedad invertida?\n",
    "   - ¿ Qué servicios se relacionan más con la rentabilidad?\n",
    "   - ¿Qué rangos de precios son los más adecuados?\n",
    "\n"
   ]
  },
  {
   "cell_type": "markdown",
   "metadata": {},
   "source": [
    "# Setup"
   ]
  },
  {
   "cell_type": "code",
   "execution_count": 1,
   "metadata": {},
   "outputs": [],
   "source": [
    "\n",
    "# Common imports\n",
    "import numpy as np\n",
    "import os\n",
    "\n",
    "# to make this notebook's output stable across runs\n",
    "np.random.seed(42)\n",
    "\n",
    "# To plot pretty figures\n",
    "%matplotlib inline\n",
    "import matplotlib as mpl\n",
    "import matplotlib.pyplot as plt\n",
    "import seaborn as sns\n",
    "mpl.rc('axes', labelsize=14)\n",
    "mpl.rc('xtick', labelsize=12)\n",
    "mpl.rc('ytick', labelsize=12)\n",
    "\n",
    "# Where to save the figures\n",
    "PROJECT_ROOT_DIR = \".\"\n",
    "CHAPTER_ID = \"florida\"\n",
    "IMAGES_PATH = os.path.join(PROJECT_ROOT_DIR, \"images\", CHAPTER_ID)\n",
    "os.makedirs(IMAGES_PATH, exist_ok=True)\n",
    "\n",
    "def save_fig(fig_id, tight_layout=True, fig_extension=\"png\", resolution=300):\n",
    "    path = os.path.join(IMAGES_PATH, fig_id + \".\" + fig_extension)\n",
    "    print(\"Saving figure\", fig_id)\n",
    "    if tight_layout:\n",
    "        plt.tight_layout()\n",
    "    plt.savefig(path, format=fig_extension, dpi=resolution)\n"
   ]
  },
  {
   "cell_type": "markdown",
   "metadata": {},
   "source": [
    "# Get the data"
   ]
  },
  {
   "cell_type": "code",
   "execution_count": 2,
   "metadata": {},
   "outputs": [],
   "source": [
    "import pandas as pd\n",
    "\n",
    "# import data from a csv\n",
    "listings = pd.read_csv('data/listings.csv')\n"
   ]
  },
  {
   "cell_type": "markdown",
   "metadata": {},
   "source": [
    "# Entendimiento Inicial de datos"
   ]
  },
  {
   "cell_type": "code",
   "execution_count": 3,
   "metadata": {},
   "outputs": [
    {
     "data": {
      "text/plain": [
       "(17728, 75)"
      ]
     },
     "execution_count": 3,
     "metadata": {},
     "output_type": "execute_result"
    }
   ],
   "source": [
    "# Showing dataframe dimensions\n",
    "listings.shape"
   ]
  },
  {
   "cell_type": "markdown",
   "metadata": {},
   "source": [
    "### Dataset Dimensions:\n",
    "Number of Records: 17,728  \n",
    "Number of Attributes: 18\n"
   ]
  },
  {
   "cell_type": "markdown",
   "metadata": {},
   "source": [
    "## Feature Selection:"
   ]
  },
  {
   "cell_type": "code",
   "execution_count": 4,
   "metadata": {},
   "outputs": [
    {
     "data": {
      "text/plain": [
       "Index(['id', 'listing_url', 'scrape_id', 'last_scraped', 'source', 'name',\n",
       "       'description', 'neighborhood_overview', 'picture_url', 'host_id',\n",
       "       'host_url', 'host_name', 'host_since', 'host_location', 'host_about',\n",
       "       'host_response_time', 'host_response_rate', 'host_acceptance_rate',\n",
       "       'host_is_superhost', 'host_thumbnail_url', 'host_picture_url',\n",
       "       'host_neighbourhood', 'host_listings_count',\n",
       "       'host_total_listings_count', 'host_verifications',\n",
       "       'host_has_profile_pic', 'host_identity_verified', 'neighbourhood',\n",
       "       'neighbourhood_cleansed', 'neighbourhood_group_cleansed', 'latitude',\n",
       "       'longitude', 'property_type', 'room_type', 'accommodates', 'bathrooms',\n",
       "       'bathrooms_text', 'bedrooms', 'beds', 'amenities', 'price',\n",
       "       'minimum_nights', 'maximum_nights', 'minimum_minimum_nights',\n",
       "       'maximum_minimum_nights', 'minimum_maximum_nights',\n",
       "       'maximum_maximum_nights', 'minimum_nights_avg_ntm',\n",
       "       'maximum_nights_avg_ntm', 'calendar_updated', 'has_availability',\n",
       "       'availability_30', 'availability_60', 'availability_90',\n",
       "       'availability_365', 'calendar_last_scraped', 'number_of_reviews',\n",
       "       'number_of_reviews_ltm', 'number_of_reviews_l30d', 'first_review',\n",
       "       'last_review', 'review_scores_rating', 'review_scores_accuracy',\n",
       "       'review_scores_cleanliness', 'review_scores_checkin',\n",
       "       'review_scores_communication', 'review_scores_location',\n",
       "       'review_scores_value', 'license', 'instant_bookable',\n",
       "       'calculated_host_listings_count',\n",
       "       'calculated_host_listings_count_entire_homes',\n",
       "       'calculated_host_listings_count_private_rooms',\n",
       "       'calculated_host_listings_count_shared_rooms', 'reviews_per_month'],\n",
       "      dtype='object')"
      ]
     },
     "execution_count": 4,
     "metadata": {},
     "output_type": "execute_result"
    }
   ],
   "source": [
    "listings.columns"
   ]
  },
  {
   "cell_type": "code",
   "execution_count": 5,
   "metadata": {},
   "outputs": [],
   "source": [
    "listings_allfeatures = listings.copy()"
   ]
  },
  {
   "cell_type": "markdown",
   "metadata": {},
   "source": [
    "## Create new features\n",
    "\n",
    "Las preguntas de negocio que se plantean al inicio dependen de la creación de las siguientes variabes:  \n",
    "\n",
    "1) Demanda/tasa de ocupación  \n",
    "2) Rentabilidad Bruta esperada Anualmente \n",
    "\n",
    "\n"
   ]
  },
  {
   "cell_type": "markdown",
   "metadata": {},
   "source": [
    "#### Demand\n",
    "Para ello usaré `availability_*` y `host_acceptance_rate` para entender cuántas solicitudes se generan. Se usa una heuristica basada en el articulo \"\"...\n",
    "\n",
    "**Asumptions**  \n",
    "Nota 1: Con el proxy de demanda se puede caer en estacionalidades, pero hacen falta más datos para evitar este problema.\n",
    "\n",
    "Nota 2: El diccionario de datos se refiere a `availability_*` como las fechas disponibles en * dias, ya sea por reserva o por que el usuario bloquea."
   ]
  },
  {
   "cell_type": "code",
   "execution_count": 6,
   "metadata": {},
   "outputs": [
    {
     "name": "stdout",
     "output_type": "stream",
     "text": [
      "availability_30            0\n",
      "availability_60            0\n",
      "availability_90            0\n",
      "availability_365           0\n",
      "host_acceptance_rate    1822\n",
      "dtype: int64\n"
     ]
    }
   ],
   "source": [
    "# List of columns we are interested in\n",
    "cols_to_check = ['availability_30', 'availability_60', 'availability_90', 'availability_365', 'host_acceptance_rate']\n",
    "\n",
    "# Check for missing values in each column\n",
    "missing_values = listings_allfeatures[cols_to_check].isnull().sum()\n",
    "\n",
    "# Print the number of missing values for each column\n",
    "print(missing_values)\n"
   ]
  },
  {
   "cell_type": "code",
   "execution_count": 7,
   "metadata": {},
   "outputs": [
    {
     "data": {
      "image/png": "[encoded data removed]",
      "text/plain": [
       "<Figure size 864x432 with 1 Axes>"
      ]
     },
     "metadata": {
      "needs_background": "dark"
     },
     "output_type": "display_data"
    }
   ],
   "source": [
    "# Cleaning the host_acceptance_rate column\n",
    "listings_allfeatures['host_acceptance_rate'] = listings_allfeatures['host_acceptance_rate'].str.rstrip('%').astype('float') / 100.0\n",
    "# Histogram for the distribution of host_acceptance_rate\n",
    "plt.figure(figsize=(12, 6))\n",
    "\n",
    "# Plotting the distribution of host_acceptance_rate\n",
    "sns.histplot(listings_allfeatures['host_acceptance_rate'], bins=50, kde=True, color='purple')\n",
    "plt.title('Distribution of Host Acceptance Rate')\n",
    "plt.xlabel('Host Acceptance Rate')\n",
    "plt.ylabel('Number of Listings')\n",
    "\n",
    "plt.show()\n"
   ]
  },
  {
   "cell_type": "code",
   "execution_count": 8,
   "metadata": {},
   "outputs": [],
   "source": [
    "# Calculate the median of host_acceptance_rate for each property_type\n",
    "median_per_property_type = listings_allfeatures.groupby('property_type')['host_acceptance_rate'].median()\n",
    "global_median = listings_allfeatures['host_acceptance_rate'].median()\n",
    "\n",
    "# Function to impute missing values based on median for each property_type\n",
    "def impute_median(row):\n",
    "    if pd.isnull(row['host_acceptance_rate']):\n",
    "        return median_per_property_type.get(row['property_type'], global_median)\n",
    "    else:\n",
    "        return row['host_acceptance_rate']\n",
    "\n",
    "listings_allfeatures['host_acceptance_rate'] = listings_allfeatures.apply(impute_median, axis=1)\n",
    "\n",
    "# Filter the DataFrame to keep only rows where host_acceptance_rate\n",
    "# Calculate upper and lower bounds based on mean and standard deviation\n",
    "mean_host_acceptance_rate = listings_allfeatures['host_acceptance_rate'].mean()\n",
    "std_host_acceptance_rate = listings_allfeatures['host_acceptance_rate'].std()\n",
    "lower_bound = mean_host_acceptance_rate - 1.5 * std_host_acceptance_rate\n",
    "\n",
    "listings_allfeatures = listings_allfeatures[listings_allfeatures['host_acceptance_rate'] >= lower_bound]\n",
    "\n"
   ]
  },
  {
   "cell_type": "code",
   "execution_count": 9,
   "metadata": {},
   "outputs": [
    {
     "data": {
      "image/png": "[encoded data removed]",
      "text/plain": [
       "<Figure size 1080x720 with 1 Axes>"
      ]
     },
     "metadata": {
      "needs_background": "dark"
     },
     "output_type": "display_data"
    }
   ],
   "source": [
    "demand_inputs = ['host_acceptance_rate', 'availability_30', 'availability_60', 'availability_90', 'availability_365']\n",
    "# Convert availability columns to percentage format\n",
    "demand_inputs_df = pd.DataFrame()\n",
    "demand_inputs_df['availability_30'] = listings_allfeatures['availability_30'] / 30\n",
    "demand_inputs_df['availability_60'] = listings_allfeatures['availability_60'] / 60\n",
    "demand_inputs_df['availability_90'] = listings_allfeatures['availability_90'] / 90\n",
    "demand_inputs_df['availability_365'] = listings_allfeatures['availability_365'] / 365\n",
    "demand_inputs_df['host_acceptance_rate'] = listings_allfeatures['host_acceptance_rate']\n",
    "\n",
    "# Plot the updated boxplots for each column in demand_inputs\n",
    "plt.figure(figsize=(15, 10))\n",
    "sns.boxplot(data=demand_inputs_df[demand_inputs], orient='h', palette='viridis')\n",
    "plt.title('Boxplots for Demand-Related Variables (in Percentage)')\n",
    "plt.xlabel('Percentage')\n",
    "plt.ylabel('Variable')\n",
    "\n",
    "plt.show()"
   ]
  },
  {
   "cell_type": "code",
   "execution_count": 10,
   "metadata": {},
   "outputs": [
    {
     "data": {
      "text/html": [
       "<div>\n",
       "<style scoped>\n",
       "    .dataframe tbody tr th:only-of-type {\n",
       "        vertical-align: middle;\n",
       "    }\n",
       "\n",
       "    .dataframe tbody tr th {\n",
       "        vertical-align: top;\n",
       "    }\n",
       "\n",
       "    .dataframe thead th {\n",
       "        text-align: right;\n",
       "    }\n",
       "</style>\n",
       "<table border=\"1\" class=\"dataframe\">\n",
       "  <thead>\n",
       "    <tr style=\"text-align: right;\">\n",
       "      <th></th>\n",
       "      <th>host_acceptance_rate</th>\n",
       "      <th>availability_30</th>\n",
       "      <th>availability_60</th>\n",
       "      <th>availability_90</th>\n",
       "      <th>availability_365</th>\n",
       "    </tr>\n",
       "  </thead>\n",
       "  <tbody>\n",
       "    <tr>\n",
       "      <th>count</th>\n",
       "      <td>16602.000000</td>\n",
       "      <td>16602.000000</td>\n",
       "      <td>16602.000000</td>\n",
       "      <td>16602.000000</td>\n",
       "      <td>16602.000000</td>\n",
       "    </tr>\n",
       "    <tr>\n",
       "      <th>mean</th>\n",
       "      <td>0.963117</td>\n",
       "      <td>16.259728</td>\n",
       "      <td>37.491989</td>\n",
       "      <td>61.050536</td>\n",
       "      <td>224.013010</td>\n",
       "    </tr>\n",
       "    <tr>\n",
       "      <th>std</th>\n",
       "      <td>0.069789</td>\n",
       "      <td>10.895758</td>\n",
       "      <td>20.380720</td>\n",
       "      <td>29.409270</td>\n",
       "      <td>122.536482</td>\n",
       "    </tr>\n",
       "    <tr>\n",
       "      <th>min</th>\n",
       "      <td>0.650000</td>\n",
       "      <td>0.000000</td>\n",
       "      <td>0.000000</td>\n",
       "      <td>0.000000</td>\n",
       "      <td>0.000000</td>\n",
       "    </tr>\n",
       "    <tr>\n",
       "      <th>25%</th>\n",
       "      <td>0.970000</td>\n",
       "      <td>6.000000</td>\n",
       "      <td>24.000000</td>\n",
       "      <td>48.000000</td>\n",
       "      <td>129.000000</td>\n",
       "    </tr>\n",
       "    <tr>\n",
       "      <th>50%</th>\n",
       "      <td>0.990000</td>\n",
       "      <td>18.000000</td>\n",
       "      <td>43.000000</td>\n",
       "      <td>71.000000</td>\n",
       "      <td>254.000000</td>\n",
       "    </tr>\n",
       "    <tr>\n",
       "      <th>75%</th>\n",
       "      <td>1.000000</td>\n",
       "      <td>27.000000</td>\n",
       "      <td>56.000000</td>\n",
       "      <td>85.000000</td>\n",
       "      <td>340.000000</td>\n",
       "    </tr>\n",
       "    <tr>\n",
       "      <th>max</th>\n",
       "      <td>1.000000</td>\n",
       "      <td>30.000000</td>\n",
       "      <td>60.000000</td>\n",
       "      <td>90.000000</td>\n",
       "      <td>365.000000</td>\n",
       "    </tr>\n",
       "  </tbody>\n",
       "</table>\n",
       "</div>"
      ],
      "text/plain": [
       "       host_acceptance_rate  availability_30  availability_60  \\\n",
       "count          16602.000000     16602.000000     16602.000000   \n",
       "mean               0.963117        16.259728        37.491989   \n",
       "std                0.069789        10.895758        20.380720   \n",
       "min                0.650000         0.000000         0.000000   \n",
       "25%                0.970000         6.000000        24.000000   \n",
       "50%                0.990000        18.000000        43.000000   \n",
       "75%                1.000000        27.000000        56.000000   \n",
       "max                1.000000        30.000000        60.000000   \n",
       "\n",
       "       availability_90  availability_365  \n",
       "count     16602.000000      16602.000000  \n",
       "mean         61.050536        224.013010  \n",
       "std          29.409270        122.536482  \n",
       "min           0.000000          0.000000  \n",
       "25%          48.000000        129.000000  \n",
       "50%          71.000000        254.000000  \n",
       "75%          85.000000        340.000000  \n",
       "max          90.000000        365.000000  "
      ]
     },
     "execution_count": 10,
     "metadata": {},
     "output_type": "execute_result"
    }
   ],
   "source": [
    "# Describe the columns in demand_inputs\n",
    "demand_inputs_description = listings_allfeatures[demand_inputs].describe()\n",
    "demand_inputs_description"
   ]
  },
  {
   "cell_type": "code",
   "execution_count": 11,
   "metadata": {},
   "outputs": [],
   "source": [
    "# Define the weights\n",
    "w_30 = 0.6\n",
    "w_60 = 0.3\n",
    "w_90 = 0.1\n",
    "# Calculate demand\n",
    "listings_allfeatures['monthly_demand'] = (\n",
    "    (w_30 * (30 - listings_allfeatures['availability_30']) + \n",
    "    w_60 * (60 - listings_allfeatures['availability_60'])/2 + \n",
    "    w_90 * (90 - listings_allfeatures['availability_90'])/3  )\n",
    "    * listings_allfeatures['host_acceptance_rate']\n",
    ")\n",
    "\n",
    "# Drop news nan\n",
    "listings_allfeatures.dropna(subset = ['monthly_demand'],inplace = True)"
   ]
  },
  {
   "cell_type": "markdown",
   "metadata": {},
   "source": [
    "#### Valor esperado\n",
    "Ahora debemos crear una nueva columna llamada `expected_revenue`, que representará los ingresos esperados en función del producto de la demanda  "
   ]
  },
  {
   "cell_type": "code",
   "execution_count": 12,
   "metadata": {},
   "outputs": [],
   "source": [
    "# clean the price attribute \n",
    "listings_allfeatures[\"price\"] = listings_allfeatures[\"price\"].str.replace(\"[$,]\", \"\", regex=True).astype(float)\n",
    "# Calculate the expected revenue by multiplying 'demand' with 'price'\n",
    "listings_allfeatures['monthly_revenue'] = listings_allfeatures['monthly_demand'] * listings_allfeatures['price']"
   ]
  },
  {
   "cell_type": "markdown",
   "metadata": {},
   "source": [
    "*Se seleccionan del set de datos las variables para trabajar* \n",
    "Para los valores númericos se hace uso de la correlación con factor de decisión y las preguntas de negocio que plantea el caso\n",
    "Para los valores Categoricos de los papers y las preguntas de negocio que plantea el caso Sengupta et al. (2021) y  Kirkos (2021) "
   ]
  },
  {
   "cell_type": "code",
   "execution_count": 13,
   "metadata": {},
   "outputs": [
    {
     "data": {
      "text/plain": [
       "monthly_revenue    1.000000\n",
       "bedrooms           0.297730\n",
       "accommodates       0.277222\n",
       "Name: monthly_revenue, dtype: float64"
      ]
     },
     "execution_count": 13,
     "metadata": {},
     "output_type": "execute_result"
    }
   ],
   "source": [
    "# Columns to be removed\n",
    "columns_to_remove = ['monthly_demand', 'availability_60', 'availability_90', 'availability_30','availability_365', 'price','host_acceptance_rate'] # las quito por la construcción de la variable\n",
    "\n",
    "numeric_features = listings_allfeatures.select_dtypes(include=['float64', 'int64'])\n",
    "numeric_features = numeric_features.drop(columns=columns_to_remove, errors='ignore')\n",
    "\n",
    "corr_matrix = numeric_features.corr()\n",
    "top_3_numeric_features = corr_matrix[\"monthly_revenue\"].abs().sort_values(ascending=False).head(3)\n",
    "top_3_numeric_features"
   ]
  },
  {
   "cell_type": "markdown",
   "metadata": {},
   "source": [
    "## Selección de Varibles"
   ]
  },
  {
   "cell_type": "code",
   "execution_count": 14,
   "metadata": {},
   "outputs": [
    {
     "data": {
      "text/html": [
       "<div>\n",
       "<style scoped>\n",
       "    .dataframe tbody tr th:only-of-type {\n",
       "        vertical-align: middle;\n",
       "    }\n",
       "\n",
       "    .dataframe tbody tr th {\n",
       "        vertical-align: top;\n",
       "    }\n",
       "\n",
       "    .dataframe thead th {\n",
       "        text-align: right;\n",
       "    }\n",
       "</style>\n",
       "<table border=\"1\" class=\"dataframe\">\n",
       "  <thead>\n",
       "    <tr style=\"text-align: right;\">\n",
       "      <th></th>\n",
       "      <th>id</th>\n",
       "      <th>property_type</th>\n",
       "      <th>amenities</th>\n",
       "      <th>price</th>\n",
       "      <th>longitude</th>\n",
       "      <th>latitude</th>\n",
       "      <th>neighbourhood_cleansed</th>\n",
       "      <th>instant_bookable</th>\n",
       "      <th>accommodates</th>\n",
       "      <th>host_is_superhost</th>\n",
       "      <th>monthly_demand</th>\n",
       "      <th>monthly_revenue</th>\n",
       "    </tr>\n",
       "  </thead>\n",
       "  <tbody>\n",
       "    <tr>\n",
       "      <th>0</th>\n",
       "      <td>57818</td>\n",
       "      <td>Entire home</td>\n",
       "      <td>[\"Garden view\", \"Bathtub\", \"Microwave\", \"Lake ...</td>\n",
       "      <td>275.0</td>\n",
       "      <td>-80.12430</td>\n",
       "      <td>26.01859</td>\n",
       "      <td>Hollywood</td>\n",
       "      <td>f</td>\n",
       "      <td>4</td>\n",
       "      <td>t</td>\n",
       "      <td>28.356333</td>\n",
       "      <td>7797.991667</td>\n",
       "    </tr>\n",
       "    <tr>\n",
       "      <th>1</th>\n",
       "      <td>83449</td>\n",
       "      <td>Entire rental unit</td>\n",
       "      <td>[\"Host greets you\", \"Bathtub\", \"Smoke alarm\", ...</td>\n",
       "      <td>91.0</td>\n",
       "      <td>-80.14201</td>\n",
       "      <td>26.03392</td>\n",
       "      <td>Dania Beach</td>\n",
       "      <td>f</td>\n",
       "      <td>5</td>\n",
       "      <td>f</td>\n",
       "      <td>28.500000</td>\n",
       "      <td>2593.500000</td>\n",
       "    </tr>\n",
       "    <tr>\n",
       "      <th>2</th>\n",
       "      <td>3097603</td>\n",
       "      <td>Entire rental unit</td>\n",
       "      <td>[\"Smoke alarm\", \"Free parking on premises\", \"E...</td>\n",
       "      <td>300.0</td>\n",
       "      <td>-80.37207</td>\n",
       "      <td>26.12660</td>\n",
       "      <td>Weston</td>\n",
       "      <td>f</td>\n",
       "      <td>8</td>\n",
       "      <td>f</td>\n",
       "      <td>29.700000</td>\n",
       "      <td>8910.000000</td>\n",
       "    </tr>\n",
       "    <tr>\n",
       "      <th>3</th>\n",
       "      <td>3105046</td>\n",
       "      <td>Entire rental unit</td>\n",
       "      <td>[\"Smoke alarm\", \"Hot tub\", \"Free parking on pr...</td>\n",
       "      <td>105.0</td>\n",
       "      <td>-80.37142</td>\n",
       "      <td>26.12751</td>\n",
       "      <td>Weston</td>\n",
       "      <td>f</td>\n",
       "      <td>4</td>\n",
       "      <td>f</td>\n",
       "      <td>29.700000</td>\n",
       "      <td>3118.500000</td>\n",
       "    </tr>\n",
       "    <tr>\n",
       "      <th>4</th>\n",
       "      <td>3113463</td>\n",
       "      <td>Private room in home</td>\n",
       "      <td>[\"Bathtub\", \"Lake access\", \"Shared pool\", \"Hot...</td>\n",
       "      <td>65.0</td>\n",
       "      <td>-80.13118</td>\n",
       "      <td>26.20928</td>\n",
       "      <td>Pompano Beach</td>\n",
       "      <td>t</td>\n",
       "      <td>2</td>\n",
       "      <td>NaN</td>\n",
       "      <td>1.566667</td>\n",
       "      <td>101.833333</td>\n",
       "    </tr>\n",
       "  </tbody>\n",
       "</table>\n",
       "</div>"
      ],
      "text/plain": [
       "        id         property_type  \\\n",
       "0    57818           Entire home   \n",
       "1    83449    Entire rental unit   \n",
       "2  3097603    Entire rental unit   \n",
       "3  3105046    Entire rental unit   \n",
       "4  3113463  Private room in home   \n",
       "\n",
       "                                           amenities  price  longitude  \\\n",
       "0  [\"Garden view\", \"Bathtub\", \"Microwave\", \"Lake ...  275.0  -80.12430   \n",
       "1  [\"Host greets you\", \"Bathtub\", \"Smoke alarm\", ...   91.0  -80.14201   \n",
       "2  [\"Smoke alarm\", \"Free parking on premises\", \"E...  300.0  -80.37207   \n",
       "3  [\"Smoke alarm\", \"Hot tub\", \"Free parking on pr...  105.0  -80.37142   \n",
       "4  [\"Bathtub\", \"Lake access\", \"Shared pool\", \"Hot...   65.0  -80.13118   \n",
       "\n",
       "   latitude neighbourhood_cleansed instant_bookable  accommodates  \\\n",
       "0  26.01859              Hollywood                f             4   \n",
       "1  26.03392            Dania Beach                f             5   \n",
       "2  26.12660                 Weston                f             8   \n",
       "3  26.12751                 Weston                f             4   \n",
       "4  26.20928          Pompano Beach                t             2   \n",
       "\n",
       "  host_is_superhost  monthly_demand  monthly_revenue  \n",
       "0                 t       28.356333      7797.991667  \n",
       "1                 f       28.500000      2593.500000  \n",
       "2                 f       29.700000      8910.000000  \n",
       "3                 f       29.700000      3118.500000  \n",
       "4               NaN        1.566667       101.833333  "
      ]
     },
     "execution_count": 14,
     "metadata": {},
     "output_type": "execute_result"
    }
   ],
   "source": [
    "# Identifier column\n",
    "identifier = ['id']\n",
    "\n",
    "# Features related to the property details\n",
    "property_features = ['property_type','amenities','price', 'longitude', 'latitude','neighbourhood_cleansed','instant_bookable','accommodates']\n",
    "\n",
    "# Features related to host\n",
    "host_features = ['host_is_superhost']\n",
    "\n",
    "# New Features\n",
    "new_features = ['monthly_demand','monthly_revenue']\n",
    "\n",
    "# Combining the features into one list\n",
    "top_features = identifier + property_features + host_features + new_features\n",
    "top_df = listings_allfeatures[top_features].copy()\n",
    "\n",
    "# Display the first rows of the adjusted DataFrame\n",
    "top_df.head()"
   ]
  },
  {
   "cell_type": "markdown",
   "metadata": {},
   "source": [
    "# Data quality"
   ]
  },
  {
   "cell_type": "markdown",
   "metadata": {},
   "source": [
    "### Duplicated values"
   ]
  },
  {
   "cell_type": "code",
   "execution_count": 15,
   "metadata": {},
   "outputs": [],
   "source": [
    "nid_duplicated = top_df.duplicated().sum()\n",
    "ndata_duplicated = top_df.duplicated().sum()\n",
    "\n",
    "assert nid_duplicated == 0 or ndata_duplicated == 0 , \"¡Error! Hay IDs duplicados en el dataset.\"\n"
   ]
  },
  {
   "cell_type": "markdown",
   "metadata": {},
   "source": [
    "### Missing values"
   ]
  },
  {
   "cell_type": "code",
   "execution_count": 16,
   "metadata": {},
   "outputs": [
    {
     "name": "stdout",
     "output_type": "stream",
     "text": [
      "<class 'pandas.core.frame.DataFrame'>\n",
      "Int64Index: 16602 entries, 0 to 17727\n",
      "Data columns (total 12 columns):\n",
      " #   Column                  Non-Null Count  Dtype  \n",
      "---  ------                  --------------  -----  \n",
      " 0   id                      16602 non-null  int64  \n",
      " 1   property_type           16602 non-null  object \n",
      " 2   amenities               16602 non-null  object \n",
      " 3   price                   16602 non-null  float64\n",
      " 4   longitude               16602 non-null  float64\n",
      " 5   latitude                16602 non-null  float64\n",
      " 6   neighbourhood_cleansed  16602 non-null  object \n",
      " 7   instant_bookable        16602 non-null  object \n",
      " 8   accommodates            16602 non-null  int64  \n",
      " 9   host_is_superhost       14834 non-null  object \n",
      " 10  monthly_demand          16602 non-null  float64\n",
      " 11  monthly_revenue         16602 non-null  float64\n",
      "dtypes: float64(5), int64(2), object(5)\n",
      "memory usage: 1.6+ MB\n"
     ]
    }
   ],
   "source": [
    "# Data Types and nans information\n",
    "top_df.info()"
   ]
  },
  {
   "cell_type": "code",
   "execution_count": 17,
   "metadata": {},
   "outputs": [],
   "source": [
    "#%pip install missingno"
   ]
  },
  {
   "cell_type": "code",
   "execution_count": 18,
   "metadata": {},
   "outputs": [
    {
     "name": "stdout",
     "output_type": "stream",
     "text": [
      "Hay 14834 filas sin valores faltantes en el dataset.\n"
     ]
    }
   ],
   "source": [
    "\n",
    "import missingno as msno\n",
    "\n",
    "missing_data = top_df.isnull()\n",
    "complete_rows = top_df.dropna()\n",
    "num_complete_rows = len(complete_rows)\n",
    "\n",
    "sns.set_style(\"white\")\n",
    "print(f\"Hay {num_complete_rows} filas sin valores faltantes en el dataset.\")"
   ]
  },
  {
   "cell_type": "code",
   "execution_count": 19,
   "metadata": {},
   "outputs": [
    {
     "data": {
      "text/plain": [
       "host_is_superhost         1768\n",
       "id                           0\n",
       "property_type                0\n",
       "amenities                    0\n",
       "price                        0\n",
       "longitude                    0\n",
       "latitude                     0\n",
       "neighbourhood_cleansed       0\n",
       "instant_bookable             0\n",
       "accommodates                 0\n",
       "monthly_demand               0\n",
       "monthly_revenue              0\n",
       "dtype: int64"
      ]
     },
     "execution_count": 19,
     "metadata": {},
     "output_type": "execute_result"
    }
   ],
   "source": [
    "missing_observation = top_df.isnull().sum()\n",
    "missing_observation.sort_values(ascending=False)"
   ]
  },
  {
   "cell_type": "markdown",
   "metadata": {},
   "source": [
    "Antes de continuar con la imputación exploraré los otros datos con fin de mejorar los criterios  \n",
    "de imputación"
   ]
  },
  {
   "cell_type": "markdown",
   "metadata": {},
   "source": [
    "# Variables Analysis"
   ]
  },
  {
   "cell_type": "markdown",
   "metadata": {},
   "source": [
    "### Demands"
   ]
  },
  {
   "cell_type": "code",
   "execution_count": 20,
   "metadata": {},
   "outputs": [
    {
     "data": {
      "text/plain": [
       "[]"
      ]
     },
     "execution_count": 20,
     "metadata": {},
     "output_type": "execute_result"
    },
    {
     "data": {
      "image/png": "[encoded data removed]",
      "text/plain": [
       "<Figure size 1440x360 with 1 Axes>"
      ]
     },
     "metadata": {},
     "output_type": "display_data"
    }
   ],
   "source": [
    "sns.set_style(\"white\")\n",
    "plt.figure(figsize=(20, 5))\n",
    "plt.hist(top_df[\"monthly_demand\"], bins=50)\n",
    "plt.title(\"Monthly demand distribution\")\n",
    "plt.plot()"
   ]
  },
  {
   "cell_type": "code",
   "execution_count": 21,
   "metadata": {},
   "outputs": [
    {
     "data": {
      "text/plain": [
       "count    16602.000000\n",
       "mean        12.157128\n",
       "std          9.995813\n",
       "min          0.000000\n",
       "25%          2.976667\n",
       "50%         10.345500\n",
       "75%         20.365250\n",
       "max         30.000000\n",
       "Name: monthly_demand, dtype: float64"
      ]
     },
     "execution_count": 21,
     "metadata": {},
     "output_type": "execute_result"
    }
   ],
   "source": [
    "top_df[\"monthly_demand\"].describe()"
   ]
  },
  {
   "cell_type": "code",
   "execution_count": 22,
   "metadata": {},
   "outputs": [
    {
     "data": {
      "text/plain": [
       "[]"
      ]
     },
     "execution_count": 22,
     "metadata": {},
     "output_type": "execute_result"
    },
    {
     "data": {
      "image/png": "[encoded data removed]",
      "text/plain": [
       "<Figure size 1440x360 with 1 Axes>"
      ]
     },
     "metadata": {},
     "output_type": "display_data"
    }
   ],
   "source": [
    "top_df[\"pp_demand\"] = top_df[\"monthly_demand\"]/30\n",
    "top_df[\"pp_demand\"] = top_df[\"pp_demand\"].round(2)\n",
    "sns.set_style(\"white\")\n",
    "plt.figure(figsize=(20, 5))\n",
    "plt.hist(top_df[\"pp_demand\"], bins=50)\n",
    "plt.title(\" % Demand\")\n",
    "plt.plot()"
   ]
  },
  {
   "cell_type": "markdown",
   "metadata": {},
   "source": [
    "### Price"
   ]
  },
  {
   "cell_type": "code",
   "execution_count": 23,
   "metadata": {},
   "outputs": [
    {
     "data": {
      "text/plain": [
       "[]"
      ]
     },
     "execution_count": 23,
     "metadata": {},
     "output_type": "execute_result"
    }
   ],
   "source": [
    "sns.set_style(\"white\")\n",
    "plt.figure(figsize=(20, 5))\n",
    "plt.hist(top_df[\"price\"], bins=50)\n",
    "plt.title(\"Price distribution\")\n",
    "plt.plot()"
   ]
  },
  {
   "cell_type": "code",
   "execution_count": null,
   "metadata": {},
   "outputs": [],
   "source": [
    "# Histogram for the distribution of prices\n",
    "plt.figure(figsize=(12, 6))\n",
    "\n",
    "# Plotting the distribution of prices\n",
    "sns.histplot(top_df['price'], bins=100, kde=True, color='blue')\n",
    "plt.title('Distribution of Prices')\n",
    "plt.xlabel('Price')\n",
    "plt.ylabel('Number of Listings')\n",
    "plt.xlim(0, 1000)  # Limiting the x-axis to focus on the majority of data\n",
    "\n",
    "plt.show()"
   ]
  },
  {
   "cell_type": "markdown",
   "metadata": {},
   "source": [
    "Procedo a quitar el quartil superior de precios"
   ]
  },
  {
   "cell_type": "code",
   "execution_count": null,
   "metadata": {},
   "outputs": [],
   "source": [
    "# Calculate the Interquartile Range (IQR) for the price column\n",
    "q1 = top_df[\"price\"].quantile(0.25)\n",
    "q3 = top_df[\"price\"].quantile(0.75)\n",
    "iqr = q3 - q1\n",
    "\n",
    "# Define bounds for outliers\n",
    "lower_bound = q1 - 1.5 * iqr\n",
    "upper_bound = q3 + 1.5 * iqr\n",
    "\n",
    "# Filter the DataFrame to exclude outliers based on the price_float column\n",
    "filtered_top = top_df[ top_df[\"price\"] <= upper_bound]\n",
    "\n",
    "# Histogram for the distribution of prices\n",
    "plt.figure(figsize=(12, 6))\n",
    "\n",
    "# Plotting the distribution of prices\n",
    "sns.histplot(filtered_top['price'], bins=100, kde=True, color='blue')\n",
    "plt.title('Distribution of Prices')\n",
    "plt.xlabel('Price')\n",
    "plt.ylabel('Number of Listings')"
   ]
  },
  {
   "cell_type": "markdown",
   "metadata": {},
   "source": [
    "El histograma muestra la distribución de precios de las propiedades listadas en Airbnb en Florida:\n",
    "\n",
    "La mayoría de las propiedades tienen precios en el rango de $0 a $200.\n",
    "Hay un pico notable en el rango de precios de $50 a $100, lo que indica que este es un rango de precios común para muchas propiedades.\n",
    "A medida que aumenta el precio, el número de listados disminuye, lo que es esperado ya que las propiedades de lujo o de alta gama suelen ser menos en número."
   ]
  },
  {
   "cell_type": "code",
   "execution_count": null,
   "metadata": {},
   "outputs": [],
   "source": [
    "# Scatter plot for price vs. monthly_demand\n",
    "plt.figure(figsize=(12, 8))\n",
    "sns.scatterplot(data=filtered_top, x='price', y='monthly_demand', alpha=0.6)\n",
    "plt.title('Monthly Demand vs. Price')\n",
    "plt.xlabel('Price')\n",
    "plt.ylabel('Monthly Demand')\n",
    "plt.show()"
   ]
  },
  {
   "cell_type": "markdown",
   "metadata": {},
   "source": [
    "El gráfico muestra la relación entre el \"precio\" y la \"demanda mensual\" estimada para las propiedades listadas en Airbnb en Florida:\n",
    "\n",
    "- La mayoría de las propiedades tienen una demanda mensual en el rango más bajo, independientemente del precio. Esto sugiere que muchas propiedades no se alquilan con frecuencia.  \n",
    "- No hay una relación lineal clara entre el precio y la demanda mensual. Sin embargo, se puede observar que las propiedades con precios más altos tienden a tener una menor demanda mensual en general.  \n",
    "\n",
    "Esto sugiere que, si bien el precio es un factor, hay otros factores que también influyen en la demanda mensual, como la ubicación, las comodidades, las calificaciones de revisión y la disponibilidad general."
   ]
  },
  {
   "cell_type": "code",
   "execution_count": null,
   "metadata": {},
   "outputs": [],
   "source": [
    "filtered_top.neighbourhood_cleansed.unique()"
   ]
  },
  {
   "cell_type": "markdown",
   "metadata": {},
   "source": [
    "# Discover and visualize the data to gain insights"
   ]
  },
  {
   "cell_type": "code",
   "execution_count": null,
   "metadata": {},
   "outputs": [],
   "source": [
    "import geopandas as gpd\n",
    "\n",
    "## Load the geojson file into a GeoDataFrame\n",
    "neighbourhoods_gdf = gpd.read_file(\"data/neighbourhoods.geojson\")\n",
    "\n",
    "# Merge the neighbourhoods data with the listings data to get average price and number of reviews per neighbourhood\n",
    "merged_data = filtered_top.groupby('neighbourhood_cleansed').agg({'price': 'median', 'pp_demand': 'median'}).reset_index()\n",
    "merged_data['monthly_revenue'] = merged_data['price'] * merged_data['pp_demand'] * 30\n",
    "merged_data['monthly_revenue'] = merged_data['monthly_revenue'].round(1)\n",
    "merged_data = neighbourhoods_gdf.merge(merged_data, left_on=\"neighbourhood\", right_on=\"neighbourhood_cleansed\")\n",
    "\n",
    "# Plotting the merged data\n",
    "fig, ax = plt.subplots(3, 1, figsize=(15, 15))\n",
    "\n",
    "# Plot average price per neighbourhood\n",
    "merged_data.plot(column='price', cmap=\"Oranges\", legend=True, ax=ax[0])\n",
    "ax[0].set_title(\"Mean Price by Neighbourhood\")\n",
    "ax[0].axis('off')\n",
    "\n",
    "# Plot average monthly demand per neighbourhood\n",
    "merged_data.plot(column='pp_demand', cmap=\"Greens\", legend=True, ax=ax[1])\n",
    "ax[1].set_title(\"Mean Monthly Demand by Neighbourhood\")\n",
    "ax[1].axis('off')\n",
    "\n",
    "# Plot average monthly revenue per neighbourhood\n",
    "merged_data.plot(column='monthly_revenue', cmap=\"OrRd\", legend=True, ax=ax[2])\n",
    "ax[2].set_title(\"Mean Monthly Revenue by Neighbourhood\")\n",
    "ax[2].axis('off')\n",
    "\n",
    "plt.tight_layout()\n",
    "plt.show()\n",
    "\n"
   ]
  },
  {
   "cell_type": "code",
   "execution_count": null,
   "metadata": {},
   "outputs": [],
   "source": [
    "\n",
    "# Drop duplicated rows based on the 'neighbourhood' column\n",
    "merged_data_unique = merged_data.drop_duplicates(subset='neighbourhood', keep='first')\n",
    "\n",
    "# Calculate top 5 neighbourhoods for each attribute\n",
    "top_price_neighbourhoods_notebook = merged_data_unique.nlargest(5, 'price')[['neighbourhood', 'price']]\n",
    "top_demand_neighbourhoods_notebook = merged_data_unique.nlargest(5, 'pp_demand')[['neighbourhood', 'pp_demand']]\n",
    "top_revenue_neighbourhoods_notebook = merged_data_unique.nlargest(5, 'monthly_revenue')[['neighbourhood', 'monthly_revenue']]\n",
    "\n",
    "top_price_neighbourhoods_notebook, top_demand_neighbourhoods_notebook, top_revenue_neighbourhoods_notebook\n"
   ]
  },
  {
   "cell_type": "code",
   "execution_count": null,
   "metadata": {},
   "outputs": [],
   "source": [
    "# Retrieve additional columns (price and monthly_demand) for the top 5 neighbourhoods based on monthly_revenue\n",
    "top_revenue_neighbourhoods_detailed = merged_data_unique.nlargest(5, 'monthly_revenue')[['neighbourhood', 'monthly_revenue', 'price', 'pp_demand']]\n",
    "\n",
    "top_revenue_neighbourhoods_detailed\n"
   ]
  },
  {
   "cell_type": "markdown",
   "metadata": {},
   "source": []
  },
  {
   "cell_type": "markdown",
   "metadata": {},
   "source": [
    "Dado que tenemos un listado de los barrios más rentables, de ahora en adelante  \n",
    "se usará este df para explorar las otras variables."
   ]
  },
  {
   "cell_type": "markdown",
   "metadata": {},
   "source": [
    "### Neighbourhood Higth Revenue Segmentation"
   ]
  },
  {
   "cell_type": "code",
   "execution_count": null,
   "metadata": {},
   "outputs": [],
   "source": [
    "# \n",
    "neighbourhood_higth_revenue = filtered_top[filtered_top['neighbourhood_cleansed'].isin(top_revenue_neighbourhoods_detailed.neighbourhood.unique())]\n",
    "neighbourhood_higth_revenue.info()"
   ]
  },
  {
   "cell_type": "markdown",
   "metadata": {},
   "source": [
    "### property_type"
   ]
  },
  {
   "cell_type": "code",
   "execution_count": null,
   "metadata": {},
   "outputs": [],
   "source": [
    "# Bar chart for the 5 most common property types\n",
    "top_5_property_types = neighbourhood_higth_revenue[\"property_type\"].value_counts(normalize = True).head(5)\n",
    "\n",
    "# Initialize the plot\n",
    "fig, ax = plt.subplots(figsize=(10, 8))\n",
    "\n",
    "# Plot the top 10 property types with horizontal bars\n",
    "top_5_property_types.plot(kind='barh', ax=ax, color='Green')\n",
    "\n",
    "# Set the title and labels for the plot\n",
    "ax.set_title('Top 5 Property Types')\n",
    "ax.set_xlabel('Number of Listings')\n",
    "ax.set_ylabel('Property Type')\n",
    "\n",
    "# Invert the y-axis to display the property type with the most listings at the top\n",
    "ax.invert_yaxis()\n",
    "\n",
    "# Adjust layout to fit everything nicely\n",
    "plt.tight_layout()\n",
    "\n",
    "# Display the plot\n",
    "plt.show()"
   ]
  },
  {
   "cell_type": "code",
   "execution_count": null,
   "metadata": {},
   "outputs": [],
   "source": [
    "top_5_property_types = pd.DataFrame(top_5_property_types)\n",
    "filtered_data = neighbourhood_higth_revenue[neighbourhood_higth_revenue['property_type'].isin(top_5_property_types.index.unique())]\n",
    "\n",
    "for neighbourhood in neighbourhood_higth_revenue['neighbourhood_cleansed'].unique():\n",
    "    neighbourhood_data = filtered_data[filtered_data['neighbourhood_cleansed'] == neighbourhood]\n",
    "\n",
    "    fig, ax = plt.subplots(figsize=(10, 8))\n",
    "    sns.boxplot(data=neighbourhood_data, x='property_type', y='monthly_revenue', ax=ax)\n",
    "    ax.set_title(f'Revenue vs property_type for {neighbourhood}')\n",
    "    plt.xticks(rotation=45)\n",
    "    plt.show()"
   ]
  },
  {
   "cell_type": "code",
   "execution_count": null,
   "metadata": {},
   "outputs": [],
   "source": [
    "for neighbourhood in neighbourhood_higth_revenue['neighbourhood_cleansed'].unique():\n",
    "    neighbourhood_data = filtered_data[filtered_data['neighbourhood_cleansed'] == neighbourhood]\n",
    "\n",
    "    fig, ax = plt.subplots(figsize=(10, 8))\n",
    "    sns.countplot(data = neighbourhood_data, x='property_type', ax=ax)\n",
    "    ax.set_title(f' Number of property_type by {neighbourhood}')\n",
    "    plt.xticks(rotation=45)\n",
    "    plt.show()"
   ]
  },
  {
   "cell_type": "markdown",
   "metadata": {},
   "source": [
    "## Super Host"
   ]
  },
  {
   "cell_type": "code",
   "execution_count": null,
   "metadata": {},
   "outputs": [],
   "source": [
    "\n",
    "# Plotting the distribution of monthly revenue for Superhost and non-Superhost in top neighbourhoods\n",
    "plt.figure(figsize=(14, 7))\n",
    "sns.boxplot(data= neighbourhood_data, x='neighbourhood_cleansed', y='monthly_revenue', hue='host_is_superhost')\n",
    "plt.title('Distribution of Monthly Revenue by Superhost Status in Top Neighbourhoods')\n",
    "plt.xticks(rotation=45)\n",
    "plt.ylabel('Monthly Revenue')\n",
    "plt.xlabel('Neighbourhood')\n",
    "plt.legend(title='Superhost Status')\n",
    "plt.tight_layout()\n",
    "plt.show()\n"
   ]
  },
  {
   "cell_type": "markdown",
   "metadata": {},
   "source": [
    "El gráfico muestra la distribución de los ingresos mensuales por estado de Superhost en los vecindarios con los mayores ingresos. Aquí hay algunas observaciones:\n",
    "\n",
    "- Variabilidad en Ingresos: En general, hay una amplia variabilidad en los ingresos mensuales dentro de cada vecindario, independientemente del estado de Superhost.\n",
    "- Superhost vs. No-Superhost: En la mayoría de los vecindarios, los anfitriones Superhost tienden a tener ingresos mensuales medianos más altos en comparación con los no-Superhost. Sin embargo, la diferencia no es drástica.\n",
    "- Distinto: El vecindario \"Hillsboro\" muestra un comportamiento inusual, lo que indica que el factor de \"super host\" no parece ser determinante para la toma de decisión de los arrendatarios"
   ]
  },
  {
   "cell_type": "markdown",
   "metadata": {},
   "source": [
    "## Amenities"
   ]
  },
  {
   "cell_type": "code",
   "execution_count": null,
   "metadata": {},
   "outputs": [],
   "source": [
    "# Extract amenities and create a list for each property\n",
    "neighbourhood_higth_revenue['amenities_list'] = neighbourhood_higth_revenue['amenities'].str.replace(\"[{}]\", \"\", regex=True).str.split(\",\")\n",
    "\n",
    "# Expand the amenities into separate rows\n",
    "amenities_exploded = neighbourhood_higth_revenue.explode('amenities_list')\n",
    "\n",
    "# Count the occurrences of each amenity in top revenue neighbourhoods\n",
    "amenities_count = amenities_exploded['amenities_list'].value_counts()\n",
    "\n",
    "\n"
   ]
  },
  {
   "cell_type": "code",
   "execution_count": null,
   "metadata": {},
   "outputs": [],
   "source": [
    "def plot_normalized_amenities_by_property_type(df):\n",
    "    # Getting unique property types\n",
    "    property_types = df['property_type'].unique()\n",
    "    \n",
    "    # For each property type, count the top 20 amenities and plot\n",
    "    for prop_type in property_types:\n",
    "        # Filtering data for current property type\n",
    "        prop_data = df[df['property_type'] == prop_type]\n",
    "        \n",
    "        # Counting amenities\n",
    "        amenities_count = prop_data['amenities'].str.split(',').explode().value_counts()\n",
    "        \n",
    "        # Normalizing the counts\n",
    "        normalized_amenities_count = amenities_count / len(prop_data)\n",
    "        \n",
    "        # Plotting the top 20 normalized amenities for current property type\n",
    "        plt.figure(figsize=(14, 7))\n",
    "        normalized_amenities_count.head(20).plot(kind='bar', color='skyblue')\n",
    "        plt.title(f'Top 10 Amenities in {prop_type} (Normalized)')\n",
    "        plt.ylabel('Proportion of Listings')\n",
    "        plt.xlabel('Amenity')\n",
    "        plt.xticks(rotation=45)\n",
    "        plt.tight_layout()\n",
    "        plt.show()\n",
    "        \n",
    "plot_normalized_amenities_by_property_type(neighbourhood_higth_revenue)\n"
   ]
  },
  {
   "cell_type": "markdown",
   "metadata": {},
   "source": [
    "El gráfico muestra las 10 comodidades más comunes en los vecindarios con los mayores ingresos. Aquí hay algunas observaciones:\n",
    "\n",
    "Comodidades esenciales: Elementos como \"Wifi\", \"Cocina\", \"Calefacción\" y \"Lavadora\" están entre las comodidades más comunes, lo que indica que son consideradas esenciales por la mayoría de los anfitriones y probablemente esperadas por los huéspedes.\n",
    "Comodidades de seguridad: La \"Alarma de monóxido de carbono\" y la \"Alarma de humo\" también son comunes, lo que sugiere una atención a la seguridad por parte de los anfitriones en estos vecindarios.\n",
    "Accesibilidad: Las comodidades relacionadas con la accesibilidad, como \"Ascensor\", también son populares, lo que puede ser especialmente relevante en zonas urbanas con edificios de varios pisos.\n",
    "El siguiente paso es analizar cómo estas comodidades pueden influir en los ingresos mensuales. Una forma de hacerlo es investigar si la presencia de ciertas comodidades está asociada con diferencias significativas en el ingreso mensual medio.\n",
    "\n",
    "Voy a seleccionar algunas comodidades clave y comparar los ingresos mensuales de las propiedades que las tienen con las que no."
   ]
  },
  {
   "cell_type": "code",
   "execution_count": null,
   "metadata": {},
   "outputs": [],
   "source": [
    "def plot_top_amenities_by_property(df):\n",
    "    property_types = df['property_type'].unique()\n",
    "    \n",
    "    for prop_type in property_types:\n",
    "        prop_data = df[df['property_type'] == prop_type]\n",
    "        \n",
    "        # Identifying the amenities with the highest average revenue for the current property type\n",
    "        amenities_list = prop_data['amenities'].str.split(',').explode().unique()\n",
    "        amenity_revenue = {}\n",
    "        \n",
    "        for amenity in amenities_list:\n",
    "            amenity_revenue[amenity] = prop_data[prop_data['amenities'].str.contains(amenity, case=False, na=False, regex=False)]['monthly_revenue'].mean()\n",
    "        \n",
    "        sorted_amenities = sorted(amenity_revenue, key=amenity_revenue.get, reverse=True)[:3]\n",
    "        \n",
    "        # Comparing the revenue for listings with and without each top amenity\n",
    "        revenue_with_amenity = []\n",
    "        revenue_without_amenity = []\n",
    "        \n",
    "        for amenity in sorted_amenities:\n",
    "            revenue_with_amenity.append(prop_data[prop_data['amenities'].str.contains(amenity, case=False, na=False, regex=False)]['monthly_revenue'].median())\n",
    "            revenue_without_amenity.append(prop_data[~prop_data['amenities'].str.contains(amenity, case=False, na=False, regex=False)]['monthly_revenue'].median())\n",
    "        \n",
    "        # Plotting the comparison\n",
    "        x = np.arange(len(sorted_amenities))\n",
    "        width = 0.35\n",
    "        \n",
    "        fig, ax = plt.subplots(figsize=(14, 7))\n",
    "        rects1 = ax.bar(x - width/2, revenue_with_amenity, width, label='Con amenite', color='skyblue')\n",
    "        rects2 = ax.bar(x + width/2, revenue_without_amenity, width, label='Sin amenite', color='salmon')\n",
    "        \n",
    "        ax.set_xlabel('Amenite')\n",
    "        ax.set_ylabel('Ingreso Mediano')\n",
    "        ax.set_title(f'Comparación de ingresos por amenite en {prop_type}')\n",
    "        ax.set_xticks(x)\n",
    "        ax.set_xticklabels(sorted_amenities, rotation=45)\n",
    "        ax.legend()\n",
    "        \n",
    "        fig.tight_layout()\n",
    "        plt.show()\n",
    "\n",
    "# Calling the function with the neighbourhood_higth_revenue dataframe\n",
    "plot_top_amenities_by_property(neighbourhood_higth_revenue)\n"
   ]
  },
  {
   "cell_type": "markdown",
   "metadata": {},
   "source": [
    "## Instant bookable"
   ]
  },
  {
   "cell_type": "code",
   "execution_count": null,
   "metadata": {},
   "outputs": [],
   "source": [
    "def plot_instant_bookable_by_neighbourhood(df):\n",
    "    neighbourhoods = df['neighbourhood_cleansed'].unique()\n",
    "    \n",
    "    for neighbourhood in neighbourhoods:\n",
    "        neighbourhood_data = df[df['neighbourhood_cleansed'] == neighbourhood]\n",
    "        \n",
    "        # Calculating median revenue for listings with and without instant bookable\n",
    "        revenue_with_ib = neighbourhood_data[neighbourhood_data['instant_bookable'] == 't']['monthly_revenue'].median()\n",
    "        revenue_without_ib = neighbourhood_data[neighbourhood_data['instant_bookable'] == 'f']['monthly_revenue'].median()\n",
    "        \n",
    "        # Plotting the comparison\n",
    "        fig, ax = plt.subplots(figsize=(10, 6))\n",
    "        ax.bar(['Con Instant Book', 'Sin Instant Book'], [revenue_with_ib, revenue_without_ib], color=['skyblue', 'salmon'])\n",
    "        \n",
    "        ax.set_ylabel('Ingreso Mediano')\n",
    "        ax.set_title(f'Comparación de ingresos por opción de reserva inmediata en {neighbourhood}')\n",
    "        \n",
    "        fig.tight_layout()\n",
    "        plt.show()\n",
    "\n",
    "# Placeholder call (will throw an error if executed here, but this is the function structure)\n",
    "plot_instant_bookable_comparison(neighbourhood_higth_revenue)\n",
    "\n"
   ]
  },
  {
   "cell_type": "code",
   "execution_count": null,
   "metadata": {},
   "outputs": [],
   "source": []
  }
 ],
 "metadata": {
  "kernelspec": {
   "display_name": "base",
   "language": "python",
   "name": "python3"
  },
  "language_info": {
   "codemirror_mode": {
    "name": "ipython",
    "version": 3
   },
   "file_extension": ".py",
   "mimetype": "text/x-python",
   "name": "python",
   "nbconvert_exporter": "python",
   "pygments_lexer": "ipython3",
   "version": "3.8.10"
  },
  "orig_nbformat": 4
 },
 "nbformat": 4,
 "nbformat_minor": 2
}
